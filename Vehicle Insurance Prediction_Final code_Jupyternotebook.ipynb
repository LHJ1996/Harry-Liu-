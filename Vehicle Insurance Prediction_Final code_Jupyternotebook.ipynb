{
 "cells": [
  {
   "cell_type": "markdown",
   "metadata": {
    "application/vnd.databricks.v1+cell": {
     "inputWidgets": {},
     "nuid": "8fd970d9-aae0-414b-aae5-df1b77102c3a",
     "showTitle": false,
     "title": ""
    }
   },
   "source": [
    "# Data preparation"
   ]
  },
  {
   "cell_type": "code",
   "execution_count": 1,
   "metadata": {},
   "outputs": [],
   "source": [
    "#install two things below if it's needed on your system \n",
    "#conda install -c cyclus java-jdk \n",
    "#pip install pyspark"
   ]
  },
  {
   "cell_type": "code",
   "execution_count": 2,
   "metadata": {},
   "outputs": [],
   "source": [
    "from pyspark import SparkContext\n",
    "sc = SparkContext(\"local\", \"First App\")"
   ]
  },
  {
   "cell_type": "code",
   "execution_count": 3,
   "metadata": {
    "application/vnd.databricks.v1+cell": {
     "inputWidgets": {},
     "nuid": "146d4818-eef0-4358-a0a4-a32297fb3e61",
     "showTitle": false,
     "title": ""
    }
   },
   "outputs": [
    {
     "name": "stdout",
     "output_type": "stream",
     "text": [
      "root\n",
      " |-- id: integer (nullable = true)\n",
      " |-- Gender: string (nullable = true)\n",
      " |-- Age: integer (nullable = true)\n",
      " |-- Driving_License: integer (nullable = true)\n",
      " |-- Region_Code: double (nullable = true)\n",
      " |-- Previously_Insured: integer (nullable = true)\n",
      " |-- Vehicle_Age: string (nullable = true)\n",
      " |-- Vehicle_Damage: string (nullable = true)\n",
      " |-- Annual_Premium: double (nullable = true)\n",
      " |-- Policy_Sales_Channel: double (nullable = true)\n",
      " |-- Vintage: integer (nullable = true)\n",
      " |-- Response: integer (nullable = true)\n",
      "\n"
     ]
    }
   ],
   "source": [
    "from pyspark.sql import SparkSession\n",
    "spark = SparkSession.builder.appName('insurance').getOrCreate()\n",
    "df = spark.read.csv('train.csv',inferSchema=True,header=True)\n",
    "df.printSchema()"
   ]
  },
  {
   "cell_type": "code",
   "execution_count": 4,
   "metadata": {},
   "outputs": [],
   "source": [
    "from pyspark.sql import SQLContext\n",
    "sqlContext = SQLContext(sc)"
   ]
  },
  {
   "cell_type": "markdown",
   "metadata": {
    "application/vnd.databricks.v1+cell": {
     "inputWidgets": {},
     "nuid": "22b8004b-1b17-4e04-9cb3-fc9c5469fdcb",
     "showTitle": false,
     "title": ""
    }
   },
   "source": [
    "###Correct schema of some variables"
   ]
  },
  {
   "cell_type": "code",
   "execution_count": 5,
   "metadata": {
    "application/vnd.databricks.v1+cell": {
     "inputWidgets": {},
     "nuid": "e673966f-0d74-4269-8a02-c445a7f48b7f",
     "showTitle": false,
     "title": ""
    }
   },
   "outputs": [
    {
     "name": "stdout",
     "output_type": "stream",
     "text": [
      "root\n",
      " |-- id: string (nullable = true)\n",
      " |-- Gender: string (nullable = true)\n",
      " |-- Age: integer (nullable = true)\n",
      " |-- Driving_License: string (nullable = true)\n",
      " |-- Region_Code: string (nullable = true)\n",
      " |-- Previously_Insured: string (nullable = true)\n",
      " |-- Vehicle_Age: string (nullable = true)\n",
      " |-- Vehicle_Damage: string (nullable = true)\n",
      " |-- Annual_Premium: double (nullable = true)\n",
      " |-- Policy_Sales_Channel: string (nullable = true)\n",
      " |-- Vintage: integer (nullable = true)\n",
      " |-- Response: integer (nullable = true)\n",
      "\n"
     ]
    }
   ],
   "source": [
    "from pyspark.sql.types import StructField,StringType,IntegerType,DoubleType,StructType\n",
    "df_schema = StructType([\n",
    "    StructField('id', StringType(), True),\n",
    "    StructField('Gender', StringType(), True),\n",
    "    StructField('Age', IntegerType(), True),\n",
    "    StructField('Driving_License', StringType(), True),\n",
    "    StructField('Region_Code', StringType(), True),\n",
    "    StructField('Previously_Insured', StringType(), True),\n",
    "    StructField('Vehicle_Age', StringType(), True),\n",
    "    StructField('Vehicle_Damage', StringType(), True),\n",
    "    StructField('Annual_Premium', DoubleType(), True),\n",
    "    StructField('Policy_Sales_Channel', StringType(), True),\n",
    "    StructField('Vintage', IntegerType(), True),\n",
    "    StructField('Response', IntegerType(), True)\n",
    "    ])\n",
    "df = spark.createDataFrame(df.collect(),schema = df_schema)\n",
    "df.printSchema()"
   ]
  },
  {
   "cell_type": "code",
   "execution_count": 6,
   "metadata": {
    "application/vnd.databricks.v1+cell": {
     "inputWidgets": {},
     "nuid": "9d6cc38b-8016-4154-9a9b-193fc5633468",
     "showTitle": false,
     "title": ""
    }
   },
   "outputs": [
    {
     "data": {
      "text/plain": [
       "381109"
      ]
     },
     "execution_count": 6,
     "metadata": {},
     "output_type": "execute_result"
    }
   ],
   "source": [
    "df.count()"
   ]
  },
  {
   "cell_type": "code",
   "execution_count": 7,
   "metadata": {
    "application/vnd.databricks.v1+cell": {
     "inputWidgets": {},
     "nuid": "adb63a85-3022-4cd7-ba90-ec5ccda667bf",
     "showTitle": false,
     "title": ""
    }
   },
   "outputs": [
    {
     "name": "stdout",
     "output_type": "stream",
     "text": [
      "+---+------+---+---------------+-----------+------------------+-----------+--------------+--------------+--------------------+-------+--------+\n",
      "| id|Gender|Age|Driving_License|Region_Code|Previously_Insured|Vehicle_Age|Vehicle_Damage|Annual_Premium|Policy_Sales_Channel|Vintage|Response|\n",
      "+---+------+---+---------------+-----------+------------------+-----------+--------------+--------------+--------------------+-------+--------+\n",
      "|  1|  Male| 44|              1|       28.0|                 0|  > 2 Years|           Yes|       40454.0|                26.0|    217|       1|\n",
      "|  2|  Male| 76|              1|        3.0|                 0|   1-2 Year|            No|       33536.0|                26.0|    183|       0|\n",
      "|  3|  Male| 47|              1|       28.0|                 0|  > 2 Years|           Yes|       38294.0|                26.0|     27|       1|\n",
      "|  4|  Male| 21|              1|       11.0|                 1|   < 1 Year|            No|       28619.0|               152.0|    203|       0|\n",
      "|  5|Female| 29|              1|       41.0|                 1|   < 1 Year|            No|       27496.0|               152.0|     39|       0|\n",
      "|  6|Female| 24|              1|       33.0|                 0|   < 1 Year|           Yes|        2630.0|               160.0|    176|       0|\n",
      "|  7|  Male| 23|              1|       11.0|                 0|   < 1 Year|           Yes|       23367.0|               152.0|    249|       0|\n",
      "|  8|Female| 56|              1|       28.0|                 0|   1-2 Year|           Yes|       32031.0|                26.0|     72|       1|\n",
      "|  9|Female| 24|              1|        3.0|                 1|   < 1 Year|            No|       27619.0|               152.0|     28|       0|\n",
      "| 10|Female| 32|              1|        6.0|                 1|   < 1 Year|            No|       28771.0|               152.0|     80|       0|\n",
      "| 11|Female| 47|              1|       35.0|                 0|   1-2 Year|           Yes|       47576.0|               124.0|     46|       1|\n",
      "| 12|Female| 24|              1|       50.0|                 1|   < 1 Year|            No|       48699.0|               152.0|    289|       0|\n",
      "| 13|Female| 41|              1|       15.0|                 1|   1-2 Year|            No|       31409.0|                14.0|    221|       0|\n",
      "| 14|  Male| 76|              1|       28.0|                 0|   1-2 Year|           Yes|       36770.0|                13.0|     15|       0|\n",
      "| 15|  Male| 71|              1|       28.0|                 1|   1-2 Year|            No|       46818.0|                30.0|     58|       0|\n",
      "| 16|  Male| 37|              1|        6.0|                 0|   1-2 Year|           Yes|        2630.0|               156.0|    147|       1|\n",
      "| 17|Female| 25|              1|       45.0|                 0|   < 1 Year|           Yes|       26218.0|               160.0|    256|       0|\n",
      "| 18|Female| 25|              1|       35.0|                 1|   < 1 Year|            No|       46622.0|               152.0|    299|       0|\n",
      "| 19|  Male| 42|              1|       28.0|                 0|   1-2 Year|           Yes|       33667.0|               124.0|    158|       0|\n",
      "| 20|Female| 60|              1|       33.0|                 0|   1-2 Year|           Yes|       32363.0|               124.0|    102|       1|\n",
      "+---+------+---+---------------+-----------+------------------+-----------+--------------+--------------+--------------------+-------+--------+\n",
      "only showing top 20 rows\n",
      "\n"
     ]
    }
   ],
   "source": [
    "df.show()"
   ]
  },
  {
   "cell_type": "markdown",
   "metadata": {
    "application/vnd.databricks.v1+cell": {
     "inputWidgets": {},
     "nuid": "5d0e01b6-449b-422d-9a83-a79faae3b188",
     "showTitle": false,
     "title": ""
    }
   },
   "source": [
    "# now let's check nulls for each column \n",
    "### For nulls(missing values), we can impute them by statistical values or drop it if it had too much"
   ]
  },
  {
   "cell_type": "code",
   "execution_count": 8,
   "metadata": {
    "application/vnd.databricks.v1+cell": {
     "inputWidgets": {},
     "nuid": "91de5187-a8b4-479b-9cec-9752c87d21f7",
     "showTitle": false,
     "title": ""
    }
   },
   "outputs": [
    {
     "name": "stdout",
     "output_type": "stream",
     "text": [
      "Number of Rows:  381109    Number of Columns:  12\n",
      "+---+------+---+---------------+-----------+------------------+-----------+--------------+--------------+--------------------+-------+--------+\n",
      "| id|Gender|Age|Driving_License|Region_Code|Previously_Insured|Vehicle_Age|Vehicle_Damage|Annual_Premium|Policy_Sales_Channel|Vintage|Response|\n",
      "+---+------+---+---------------+-----------+------------------+-----------+--------------+--------------+--------------------+-------+--------+\n",
      "|  0|     0|  0|              0|          0|                 0|          0|             0|             0|                   0|      0|       0|\n",
      "+---+------+---+---------------+-----------+------------------+-----------+--------------+--------------+--------------------+-------+--------+\n",
      "\n"
     ]
    }
   ],
   "source": [
    "from pyspark.sql.functions import*\n",
    "from pyspark.sql.functions import when,count,col\n",
    "null_report=df.select([count(when(isnull(c), c)).alias(c) for c in df.columns])\n",
    "print(\"Number of Rows: \",df.count(), \"   Number of Columns: \",len(df.columns))\n",
    "null_report.show()"
   ]
  },
  {
   "cell_type": "markdown",
   "metadata": {
    "application/vnd.databricks.v1+cell": {
     "inputWidgets": {},
     "nuid": "77d68bd0-044e-458a-a916-f2b2c38221cc",
     "showTitle": false,
     "title": ""
    }
   },
   "source": [
    "### Surprisingly, the data has no nulls, so we can do some descriptive analysis"
   ]
  },
  {
   "cell_type": "code",
   "execution_count": 9,
   "metadata": {
    "application/vnd.databricks.v1+cell": {
     "inputWidgets": {},
     "nuid": "2abdcbb2-3242-447b-a2e0-f0f9f08c55a4",
     "showTitle": false,
     "title": ""
    }
   },
   "outputs": [
    {
     "name": "stdout",
     "output_type": "stream",
     "text": [
      "+---+------+---+---------------+-----------+------------------+-----------+--------------+--------------+--------------------+-------+--------+\n",
      "| id|Gender|Age|Driving_License|Region_Code|Previously_Insured|Vehicle_Age|Vehicle_Damage|Annual_Premium|Policy_Sales_Channel|Vintage|Response|\n",
      "+---+------+---+---------------+-----------+------------------+-----------+--------------+--------------+--------------------+-------+--------+\n",
      "|  1|  Male| 44|              1|       28.0|                 0|  > 2 Years|           Yes|       40454.0|                26.0|    217|       1|\n",
      "|  2|  Male| 76|              1|        3.0|                 0|   1-2 Year|            No|       33536.0|                26.0|    183|       0|\n",
      "|  3|  Male| 47|              1|       28.0|                 0|  > 2 Years|           Yes|       38294.0|                26.0|     27|       1|\n",
      "|  4|  Male| 21|              1|       11.0|                 1|   < 1 Year|            No|       28619.0|               152.0|    203|       0|\n",
      "|  5|Female| 29|              1|       41.0|                 1|   < 1 Year|            No|       27496.0|               152.0|     39|       0|\n",
      "|  6|Female| 24|              1|       33.0|                 0|   < 1 Year|           Yes|        2630.0|               160.0|    176|       0|\n",
      "|  7|  Male| 23|              1|       11.0|                 0|   < 1 Year|           Yes|       23367.0|               152.0|    249|       0|\n",
      "|  8|Female| 56|              1|       28.0|                 0|   1-2 Year|           Yes|       32031.0|                26.0|     72|       1|\n",
      "|  9|Female| 24|              1|        3.0|                 1|   < 1 Year|            No|       27619.0|               152.0|     28|       0|\n",
      "| 10|Female| 32|              1|        6.0|                 1|   < 1 Year|            No|       28771.0|               152.0|     80|       0|\n",
      "| 11|Female| 47|              1|       35.0|                 0|   1-2 Year|           Yes|       47576.0|               124.0|     46|       1|\n",
      "| 12|Female| 24|              1|       50.0|                 1|   < 1 Year|            No|       48699.0|               152.0|    289|       0|\n",
      "| 13|Female| 41|              1|       15.0|                 1|   1-2 Year|            No|       31409.0|                14.0|    221|       0|\n",
      "| 14|  Male| 76|              1|       28.0|                 0|   1-2 Year|           Yes|       36770.0|                13.0|     15|       0|\n",
      "| 15|  Male| 71|              1|       28.0|                 1|   1-2 Year|            No|       46818.0|                30.0|     58|       0|\n",
      "| 16|  Male| 37|              1|        6.0|                 0|   1-2 Year|           Yes|        2630.0|               156.0|    147|       1|\n",
      "| 17|Female| 25|              1|       45.0|                 0|   < 1 Year|           Yes|       26218.0|               160.0|    256|       0|\n",
      "| 18|Female| 25|              1|       35.0|                 1|   < 1 Year|            No|       46622.0|               152.0|    299|       0|\n",
      "| 19|  Male| 42|              1|       28.0|                 0|   1-2 Year|           Yes|       33667.0|               124.0|    158|       0|\n",
      "| 20|Female| 60|              1|       33.0|                 0|   1-2 Year|           Yes|       32363.0|               124.0|    102|       1|\n",
      "+---+------+---+---------------+-----------+------------------+-----------+--------------+--------------+--------------------+-------+--------+\n",
      "only showing top 20 rows\n",
      "\n"
     ]
    }
   ],
   "source": [
    "df.show()"
   ]
  },
  {
   "cell_type": "code",
   "execution_count": 10,
   "metadata": {
    "application/vnd.databricks.v1+cell": {
     "inputWidgets": {},
     "nuid": "f092bda7-f18e-4b32-8a96-97cfe15f4ff7",
     "showTitle": false,
     "title": ""
    }
   },
   "outputs": [
    {
     "name": "stdout",
     "output_type": "stream",
     "text": [
      "+-------+------------------+------------------+------------------+\n",
      "|summary|    Annual_Premium|           Vintage|               Age|\n",
      "+-------+------------------+------------------+------------------+\n",
      "|  count|            381109|            381109|            381109|\n",
      "|   mean|30564.389581458323|154.34739667654136|38.822583565331705|\n",
      "| stddev|17213.155056979947| 83.67130362658658| 15.51161101809548|\n",
      "|    min|            2630.0|                10|                20|\n",
      "|    max|          540165.0|               299|                85|\n",
      "+-------+------------------+------------------+------------------+\n",
      "\n"
     ]
    }
   ],
   "source": [
    "# Here numercal columns are picked for descriptive analysis \n",
    "df.select('Annual_Premium','Vintage','Age').describe().show()"
   ]
  },
  {
   "cell_type": "markdown",
   "metadata": {
    "application/vnd.databricks.v1+cell": {
     "inputWidgets": {},
     "nuid": "6916da9e-91f3-47e1-9250-82c2b2905cf0",
     "showTitle": false,
     "title": ""
    }
   },
   "source": [
    "### From the descriptive statistic, there is no issue. Now, let us remove outliers."
   ]
  },
  {
   "cell_type": "code",
   "execution_count": 11,
   "metadata": {
    "application/vnd.databricks.v1+cell": {
     "inputWidgets": {},
     "nuid": "4f31ce5c-2965-42f0-856b-22cd45637ef8",
     "showTitle": false,
     "title": ""
    }
   },
   "outputs": [],
   "source": [
    "import matplotlib.pyplot as plt \n",
    "import pandas as pd\n",
    "import random as rnd "
   ]
  },
  {
   "cell_type": "code",
   "execution_count": 12,
   "metadata": {
    "application/vnd.databricks.v1+cell": {
     "inputWidgets": {},
     "nuid": "ecdf8a58-dc1f-4f12-ad18-8a4d86a6c88f",
     "showTitle": false,
     "title": ""
    }
   },
   "outputs": [
    {
     "data": {
      "text/plain": [
       "Text(0.5, 1.0, 'Vintage box-plot')"
      ]
     },
     "execution_count": 12,
     "metadata": {},
     "output_type": "execute_result"
    },
    {
     "data": {
      "image/png": "[encoded data removed]",
      "text/plain": [
       "<Figure size 1440x1080 with 3 Axes>"
      ]
     },
     "metadata": {
      "needs_background": "light"
     },
     "output_type": "display_data"
    }
   ],
   "source": [
    "df1=df.toPandas()\n",
    "f,(ax1, ax2, ax3) = plt.subplots(1,3, sharey=False,figsize=(20,15)) \n",
    "ax1.boxplot(df1['Age'])\n",
    "ax1.set_title(\"Age box-plot\", fontsize=15)\n",
    "ax2.boxplot(df1['Annual_Premium'])\n",
    "ax2.set_title(\"Annual_Premium box-plot\", fontsize=15)\n",
    "ax3.boxplot(df1['Vintage'])\n",
    "ax3.set_title(\"Vintage box-plot\", fontsize=15)"
   ]
  },
  {
   "cell_type": "markdown",
   "metadata": {
    "application/vnd.databricks.v1+cell": {
     "inputWidgets": {},
     "nuid": "6dac3704-777e-4e60-826d-ba1077001b11",
     "showTitle": false,
     "title": ""
    }
   },
   "source": [
    "### According to the box-plots, there are some outliers in 'Annual_Premium'"
   ]
  },
  {
   "cell_type": "markdown",
   "metadata": {
    "application/vnd.databricks.v1+cell": {
     "inputWidgets": {},
     "nuid": "7a52b750-0043-401a-8cb2-cf3fbd46473a",
     "showTitle": false,
     "title": ""
    }
   },
   "source": [
    "### Next, we use the interquantile rule to delete outliers."
   ]
  },
  {
   "cell_type": "code",
   "execution_count": 13,
   "metadata": {
    "application/vnd.databricks.v1+cell": {
     "inputWidgets": {},
     "nuid": "643e5598-9a7a-4ad6-b5e4-59c4f8e9f3b3",
     "showTitle": false,
     "title": ""
    }
   },
   "outputs": [
    {
     "data": {
      "text/plain": [
       "{'Age': {'q1': 25.0, 'q3': 49.0},\n",
       " 'Annual_Premium': {'q1': 24405.0, 'q3': 39400.0},\n",
       " 'Vintage': {'q1': 82.0, 'q3': 227.0}}"
      ]
     },
     "execution_count": 13,
     "metadata": {},
     "output_type": "execute_result"
    }
   ],
   "source": [
    "quantiles = {\n",
    "    c: dict(\n",
    "        zip([\"q1\", \"q3\"], df.approxQuantile(c, [0.25, 0.75], 0))\n",
    "    )\n",
    "    for c in [\"Age\", \"Annual_Premium\",\"Vintage\"]\n",
    "}\n",
    "quantiles"
   ]
  },
  {
   "cell_type": "code",
   "execution_count": 14,
   "metadata": {
    "application/vnd.databricks.v1+cell": {
     "inputWidgets": {},
     "nuid": "265abe70-5da9-4c08-9b3d-867eeb259d3c",
     "showTitle": false,
     "title": ""
    }
   },
   "outputs": [
    {
     "name": "stdout",
     "output_type": "stream",
     "text": [
      "{'Age': {'q1': 25.0, 'q3': 49.0, 'lower_bound': -11.0, 'upper_bound': 85.0}, 'Annual_Premium': {'q1': 24405.0, 'q3': 39400.0, 'lower_bound': 1912.5, 'upper_bound': 61892.5}, 'Vintage': {'q1': 82.0, 'q3': 227.0, 'lower_bound': -135.5, 'upper_bound': 444.5}}\n"
     ]
    }
   ],
   "source": [
    "for i in quantiles:\n",
    "    iqr = quantiles[i]['q3'] - quantiles[i]['q1']\n",
    "    quantiles[i]['lower_bound'] = quantiles[i]['q1'] - (iqr * 1.5)\n",
    "    quantiles[i]['upper_bound'] = quantiles[i]['q3'] + (iqr * 1.5)\n",
    "print(quantiles)"
   ]
  },
  {
   "cell_type": "code",
   "execution_count": 15,
   "metadata": {
    "application/vnd.databricks.v1+cell": {
     "inputWidgets": {},
     "nuid": "a0b7d41b-9642-449a-9c0d-b4f34b297870",
     "showTitle": false,
     "title": ""
    }
   },
   "outputs": [
    {
     "name": "stdout",
     "output_type": "stream",
     "text": [
      "+---+------+---+---------------+-----------+------------------+-----------+--------------+--------------+--------------------+-------+--------+-------+------------------+-----------+\n",
      "| id|Gender|Age|Driving_License|Region_Code|Previously_Insured|Vehicle_Age|Vehicle_Damage|Annual_Premium|Policy_Sales_Channel|Vintage|Response|Age_out|Annual_Premium_out|Vintage_out|\n",
      "+---+------+---+---------------+-----------+------------------+-----------+--------------+--------------+--------------------+-------+--------+-------+------------------+-----------+\n",
      "|  1|  Male| 44|              1|       28.0|                 0|  > 2 Years|           Yes|       40454.0|                26.0|    217|       1|      0|                 0|          0|\n",
      "|  2|  Male| 76|              1|        3.0|                 0|   1-2 Year|            No|       33536.0|                26.0|    183|       0|      0|                 0|          0|\n",
      "|  3|  Male| 47|              1|       28.0|                 0|  > 2 Years|           Yes|       38294.0|                26.0|     27|       1|      0|                 0|          0|\n",
      "|  4|  Male| 21|              1|       11.0|                 1|   < 1 Year|            No|       28619.0|               152.0|    203|       0|      0|                 0|          0|\n",
      "|  5|Female| 29|              1|       41.0|                 1|   < 1 Year|            No|       27496.0|               152.0|     39|       0|      0|                 0|          0|\n",
      "|  6|Female| 24|              1|       33.0|                 0|   < 1 Year|           Yes|        2630.0|               160.0|    176|       0|      0|                 0|          0|\n",
      "|  7|  Male| 23|              1|       11.0|                 0|   < 1 Year|           Yes|       23367.0|               152.0|    249|       0|      0|                 0|          0|\n",
      "|  8|Female| 56|              1|       28.0|                 0|   1-2 Year|           Yes|       32031.0|                26.0|     72|       1|      0|                 0|          0|\n",
      "|  9|Female| 24|              1|        3.0|                 1|   < 1 Year|            No|       27619.0|               152.0|     28|       0|      0|                 0|          0|\n",
      "| 10|Female| 32|              1|        6.0|                 1|   < 1 Year|            No|       28771.0|               152.0|     80|       0|      0|                 0|          0|\n",
      "+---+------+---+---------------+-----------+------------------+-----------+--------------+--------------+--------------------+-------+--------+-------+------------------+-----------+\n",
      "only showing top 10 rows\n",
      "\n"
     ]
    }
   ],
   "source": [
    "import pyspark.sql.functions as f\n",
    "df_clean=df.select(\n",
    "    \"*\",\n",
    "    *[\n",
    "        f.when(\n",
    "            f.col(c).between(quantiles[c]['lower_bound'], quantiles[c]['upper_bound']),\n",
    "            0\n",
    "        ).otherwise(1).alias(c+\"_out\") \n",
    "        for c in [\"Age\", \"Annual_Premium\",\"Vintage\"]\n",
    "    ]\n",
    ")\n",
    "df_clean.show(10)"
   ]
  },
  {
   "cell_type": "code",
   "execution_count": 16,
   "metadata": {
    "application/vnd.databricks.v1+cell": {
     "inputWidgets": {},
     "nuid": "77daf59c-6545-4f1d-81b3-6f9314cbdc6f",
     "showTitle": false,
     "title": ""
    }
   },
   "outputs": [
    {
     "name": "stdout",
     "output_type": "stream",
     "text": [
      "+---+------+---+---------------+-----------+------------------+-----------+--------------+--------------+--------------------+-------+--------+-------+------------------+-----------+--------+\n",
      "| id|Gender|Age|Driving_License|Region_Code|Previously_Insured|Vehicle_Age|Vehicle_Damage|Annual_Premium|Policy_Sales_Channel|Vintage|Response|Age_out|Annual_Premium_out|Vintage_out|outliers|\n",
      "+---+------+---+---------------+-----------+------------------+-----------+--------------+--------------+--------------------+-------+--------+-------+------------------+-----------+--------+\n",
      "|  1|  Male| 44|              1|       28.0|                 0|  > 2 Years|           Yes|       40454.0|                26.0|    217|       1|      0|                 0|          0|       0|\n",
      "|  2|  Male| 76|              1|        3.0|                 0|   1-2 Year|            No|       33536.0|                26.0|    183|       0|      0|                 0|          0|       0|\n",
      "|  3|  Male| 47|              1|       28.0|                 0|  > 2 Years|           Yes|       38294.0|                26.0|     27|       1|      0|                 0|          0|       0|\n",
      "|  4|  Male| 21|              1|       11.0|                 1|   < 1 Year|            No|       28619.0|               152.0|    203|       0|      0|                 0|          0|       0|\n",
      "|  5|Female| 29|              1|       41.0|                 1|   < 1 Year|            No|       27496.0|               152.0|     39|       0|      0|                 0|          0|       0|\n",
      "|  6|Female| 24|              1|       33.0|                 0|   < 1 Year|           Yes|        2630.0|               160.0|    176|       0|      0|                 0|          0|       0|\n",
      "|  7|  Male| 23|              1|       11.0|                 0|   < 1 Year|           Yes|       23367.0|               152.0|    249|       0|      0|                 0|          0|       0|\n",
      "|  8|Female| 56|              1|       28.0|                 0|   1-2 Year|           Yes|       32031.0|                26.0|     72|       1|      0|                 0|          0|       0|\n",
      "|  9|Female| 24|              1|        3.0|                 1|   < 1 Year|            No|       27619.0|               152.0|     28|       0|      0|                 0|          0|       0|\n",
      "| 10|Female| 32|              1|        6.0|                 1|   < 1 Year|            No|       28771.0|               152.0|     80|       0|      0|                 0|          0|       0|\n",
      "| 11|Female| 47|              1|       35.0|                 0|   1-2 Year|           Yes|       47576.0|               124.0|     46|       1|      0|                 0|          0|       0|\n",
      "| 12|Female| 24|              1|       50.0|                 1|   < 1 Year|            No|       48699.0|               152.0|    289|       0|      0|                 0|          0|       0|\n",
      "| 13|Female| 41|              1|       15.0|                 1|   1-2 Year|            No|       31409.0|                14.0|    221|       0|      0|                 0|          0|       0|\n",
      "| 14|  Male| 76|              1|       28.0|                 0|   1-2 Year|           Yes|       36770.0|                13.0|     15|       0|      0|                 0|          0|       0|\n",
      "| 15|  Male| 71|              1|       28.0|                 1|   1-2 Year|            No|       46818.0|                30.0|     58|       0|      0|                 0|          0|       0|\n",
      "| 16|  Male| 37|              1|        6.0|                 0|   1-2 Year|           Yes|        2630.0|               156.0|    147|       1|      0|                 0|          0|       0|\n",
      "| 17|Female| 25|              1|       45.0|                 0|   < 1 Year|           Yes|       26218.0|               160.0|    256|       0|      0|                 0|          0|       0|\n",
      "| 18|Female| 25|              1|       35.0|                 1|   < 1 Year|            No|       46622.0|               152.0|    299|       0|      0|                 0|          0|       0|\n",
      "| 19|  Male| 42|              1|       28.0|                 0|   1-2 Year|           Yes|       33667.0|               124.0|    158|       0|      0|                 0|          0|       0|\n",
      "| 20|Female| 60|              1|       33.0|                 0|   1-2 Year|           Yes|       32363.0|               124.0|    102|       1|      0|                 0|          0|       0|\n",
      "+---+------+---+---------------+-----------+------------------+-----------+--------------+--------------+--------------------+-------+--------+-------+------------------+-----------+--------+\n",
      "only showing top 20 rows\n",
      "\n"
     ]
    }
   ],
   "source": [
    "from pyspark.sql.functions import col\n",
    "df_clean=df_clean.withColumn(\"outliers\", col(\"Age_out\")+col(\"Annual_Premium_out\")+col(\"Vintage_out\"))\n",
    "df_clean.show()"
   ]
  },
  {
   "cell_type": "code",
   "execution_count": 17,
   "metadata": {
    "application/vnd.databricks.v1+cell": {
     "inputWidgets": {},
     "nuid": "9bbb1a6a-a9e3-4f40-bc48-47df2b89a15b",
     "showTitle": false,
     "title": ""
    }
   },
   "outputs": [
    {
     "name": "stdout",
     "output_type": "stream",
     "text": [
      "+-------+------------------+------------------+------------------+\n",
      "|summary|               Age|    Annual_Premium|           Vintage|\n",
      "+-------+------------------+------------------+------------------+\n",
      "|  count|            370789|            370789|            370789|\n",
      "|   mean| 38.67034351072982|29264.643972717637|154.34544174719315|\n",
      "| stddev|15.440166283175861|14743.056656364903| 83.67047843171595|\n",
      "|    min|                20|            2630.0|                10|\n",
      "|    max|                85|           61892.0|               299|\n",
      "+-------+------------------+------------------+------------------+\n",
      "\n"
     ]
    }
   ],
   "source": [
    "#removing outliers to make a better dataset\n",
    "df_clean = df_clean.filter((df_clean.outliers==0))\n",
    "df_new = df_clean.select(['id','Gender','Age','Driving_License','Region_Code','Previously_Insured','Vehicle_Age','Vehicle_Damage','Annual_Premium','Policy_Sales_Channel','Vintage','Response'])\n",
    "df_new.select('Age','Annual_Premium','Vintage').describe().show()"
   ]
  },
  {
   "cell_type": "markdown",
   "metadata": {
    "application/vnd.databricks.v1+cell": {
     "inputWidgets": {},
     "nuid": "b557ea0e-b845-488e-b4e7-02ef7c5c7947",
     "showTitle": false,
     "title": ""
    }
   },
   "source": [
    "###Let check how many percentage of data we have left."
   ]
  },
  {
   "cell_type": "code",
   "execution_count": 18,
   "metadata": {
    "application/vnd.databricks.v1+cell": {
     "inputWidgets": {},
     "nuid": "0ddad618-2c9a-4415-9eb4-0d46c1c46c99",
     "showTitle": false,
     "title": ""
    }
   },
   "outputs": [
    {
     "data": {
      "text/plain": [
       "97.29211327992779"
      ]
     },
     "execution_count": 18,
     "metadata": {},
     "output_type": "execute_result"
    }
   ],
   "source": [
    "df_new.count()/df.count()*100"
   ]
  },
  {
   "cell_type": "markdown",
   "metadata": {
    "application/vnd.databricks.v1+cell": {
     "inputWidgets": {},
     "nuid": "a8e4e27e-6ead-4ae9-bbd3-0753b8af75c0",
     "showTitle": false,
     "title": ""
    }
   },
   "source": [
    "### After deleting outliers, we still have about 97% of the data left. Therefore, it is enough to use in the next steps."
   ]
  },
  {
   "cell_type": "markdown",
   "metadata": {
    "application/vnd.databricks.v1+cell": {
     "inputWidgets": {},
     "nuid": "9e9152af-cefc-43ef-86d8-c4fa69442639",
     "showTitle": false,
     "title": ""
    }
   },
   "source": [
    "# Data visualization"
   ]
  },
  {
   "cell_type": "code",
   "execution_count": 19,
   "metadata": {
    "application/vnd.databricks.v1+cell": {
     "inputWidgets": {},
     "nuid": "17d5f35c-598f-4d6f-95f0-6163b21ecfcf",
     "showTitle": false,
     "title": ""
    }
   },
   "outputs": [],
   "source": [
    "import matplotlib.pyplot as plt \n",
    "import pandas as pd\n",
    "import random as rnd \n",
    "from pyspark.sql import SparkSession\n",
    "from pyspark.sql import SQLContext\n",
    "from pyspark import SparkContext"
   ]
  },
  {
   "cell_type": "code",
   "execution_count": 20,
   "metadata": {
    "application/vnd.databricks.v1+cell": {
     "inputWidgets": {},
     "nuid": "7a04e396-3daa-4533-b2ee-65c37901f4b4",
     "showTitle": false,
     "title": ""
    }
   },
   "outputs": [
    {
     "data": {
      "text/plain": [
       "(370789, 1)"
      ]
     },
     "execution_count": 20,
     "metadata": {},
     "output_type": "execute_result"
    }
   ],
   "source": [
    "df_rs=df_new.select('Response').toPandas()\n",
    "df_rs.shape"
   ]
  },
  {
   "cell_type": "markdown",
   "metadata": {
    "application/vnd.databricks.v1+cell": {
     "inputWidgets": {},
     "nuid": "dd440cea-1532-4777-993d-7aedce349c2d",
     "showTitle": false,
     "title": ""
    }
   },
   "source": [
    "###  Response (Target variable)"
   ]
  },
  {
   "cell_type": "code",
   "execution_count": 21,
   "metadata": {
    "application/vnd.databricks.v1+cell": {
     "inputWidgets": {},
     "nuid": "0311bd47-c958-4c77-b546-4e9e5628da82",
     "showTitle": false,
     "title": ""
    }
   },
   "outputs": [],
   "source": [
    "# Create function for pie-chart\n",
    "def draw_pie_chart(data, column, fig, renamed_index_dict, title):\n",
    "    default_colors = ['#66b3ff', '#ff9999', '#99ff99', '#ffcc99', '#c2c2f0', '#ffb3e6', '#ff6666']\n",
    "    rnd.shuffle(default_colors)\n",
    "    ax = data[column].value_counts().rename(index = renamed_index_dict).plot.pie(colors = default_colors, autopct='%1.1f%%', startangle=180, title = title)\n",
    "    ax.set_ylabel('')  \n",
    "    \n",
    "#66b3ff = blue\n",
    "#ff9999 = light red\n",
    "#99ff99 = green\n",
    "#ffcc99 = orange\n",
    "#c2c2f0 = purple\n",
    "#ffb3e6 = pink\n",
    "#ff6666 = red"
   ]
  },
  {
   "cell_type": "code",
   "execution_count": 22,
   "metadata": {
    "application/vnd.databricks.v1+cell": {
     "inputWidgets": {},
     "nuid": "4de026df-1ad1-4cc2-902d-5bc1903f5045",
     "showTitle": false,
     "title": ""
    }
   },
   "outputs": [
    {
     "data": {
      "image/png": "[encoded data removed]",
      "text/plain": [
       "<Figure size 432x288 with 1 Axes>"
      ]
     },
     "metadata": {},
     "output_type": "display_data"
    }
   ],
   "source": [
    "fig = plt.gcf()\n",
    "draw_pie_chart(df_rs, 'Response', fig, {0: 0, 1: 1}, 'Percentage of responses')"
   ]
  },
  {
   "cell_type": "markdown",
   "metadata": {
    "application/vnd.databricks.v1+cell": {
     "inputWidgets": {},
     "nuid": "5ce1c1e1-45f0-4703-bda1-ea28a75a7a5c",
     "showTitle": false,
     "title": ""
    }
   },
   "source": [
    "#### The data is unbalanced. Therefore, we have to resampling before building a prediction model."
   ]
  },
  {
   "cell_type": "code",
   "execution_count": 23,
   "metadata": {
    "application/vnd.databricks.v1+cell": {
     "inputWidgets": {},
     "nuid": "2b59668a-b286-4aab-aa4a-a0763c2b25d1",
     "showTitle": false,
     "title": ""
    }
   },
   "outputs": [],
   "source": [
    "df_pd=df_new.toPandas()\n",
    "df_rs_no = df_pd[df_pd.Response == 0]\n",
    "df_rs_yes = df_pd[df_pd.Response == 1]"
   ]
  },
  {
   "cell_type": "markdown",
   "metadata": {
    "application/vnd.databricks.v1+cell": {
     "inputWidgets": {},
     "nuid": "46139c52-1c48-43be-b40c-97a56b778542",
     "showTitle": false,
     "title": ""
    }
   },
   "source": [
    "#### Gender , Driving_License , Previously_Insured , Vehicle_Age , and Vehicle_Damage"
   ]
  },
  {
   "cell_type": "code",
   "execution_count": 24,
   "metadata": {
    "application/vnd.databricks.v1+cell": {
     "inputWidgets": {},
     "nuid": "ef13967e-1775-4c27-8550-e19efa79706d",
     "showTitle": false,
     "title": ""
    }
   },
   "outputs": [
    {
     "data": {
      "image/png": "[encoded data removed]",
      "text/plain": [
       "<Figure size 720x2160 with 10 Axes>"
      ]
     },
     "metadata": {},
     "output_type": "display_data"
    }
   ],
   "source": [
    "fig = plt.gcf()\n",
    "fig.set_size_inches(10, 30)\n",
    "grid_rows = 5\n",
    "grid_cols = 2\n",
    "\n",
    "# Draw Gender Pie chart\n",
    "plt.subplot(grid_rows, grid_cols, 1)\n",
    "draw_pie_chart(df_rs_yes, 'Gender', fig, {0: 'Female', 1: 'Male'}, 'Gender with interest')\n",
    "\n",
    "plt.subplot(grid_rows, grid_cols, 2)\n",
    "draw_pie_chart(df_rs_no , 'Gender', fig, {0: 'Female', 1: 'Male'}, 'Gender with no interest')\n",
    "\n",
    "# Draw Driving_License chart\n",
    "plt.subplot(grid_rows, grid_cols, 3)\n",
    "draw_pie_chart(df_rs_yes, 'Driving_License', fig, {0:'0', 1:'1'}, 'Driving_License with interest')\n",
    "\n",
    "plt.subplot(grid_rows, grid_cols, 4)\n",
    "draw_pie_chart(df_rs_no, 'Driving_License', fig, {0:'0', 1:'1'}, 'Driving_License with no interest')\n",
    "\n",
    "# Draw Previously_Insured chart\n",
    "plt.subplot(grid_rows, grid_cols, 5)\n",
    "draw_pie_chart(df_rs_yes, 'Previously_Insured', fig, {0:'0', 1:'1'}, 'Previously_Insured with interest')\n",
    "\n",
    "plt.subplot(grid_rows, grid_cols, 6)\n",
    "draw_pie_chart(df_rs_no , 'Previously_Insured', fig, {0:'0', 1:'1'}, 'Previously_Insured with no interest')\n",
    "\n",
    "# Draw Vehicle_Age status chart\n",
    "plt.subplot(grid_rows, grid_cols, 7)\n",
    "draw_pie_chart(df_rs_yes, 'Vehicle_Age', fig, {0:'< 1 Year', 1:'1-2 Year',2:'> 2 Years'}, 'Vehicle_Age with interest')\n",
    "\n",
    "plt.subplot(grid_rows, grid_cols, 8)\n",
    "draw_pie_chart(df_rs_no , 'Vehicle_Age', fig, {0:'< 1 Year', 1:'1-2 Year',2:'> 2 Years'}, 'Vehicle_Age with no interest')\n",
    "\n",
    "# Draw Vehicle_Damage type chart\n",
    "plt.subplot(grid_rows, grid_cols, 9)\n",
    "draw_pie_chart(df_rs_yes, 'Vehicle_Damage', fig, {0:'Yes', 1:'No'}, 'Vehicle_Damage with interest')\n",
    "\n",
    "plt.subplot(grid_rows, grid_cols, 10)\n",
    "draw_pie_chart(df_rs_no , 'Vehicle_Damage', fig, {0:'Yes', 1:'No'}, 'Vehicle_Damage with no interest')\n",
    "\n",
    "\n",
    "fig.tight_layout()\n",
    "plt.show()"
   ]
  },
  {
   "cell_type": "markdown",
   "metadata": {
    "application/vnd.databricks.v1+cell": {
     "inputWidgets": {},
     "nuid": "09efea63-e01d-451b-81a4-f7401a04e8c2",
     "showTitle": false,
     "title": ""
    }
   },
   "source": [
    "###  Age , Annual_Premium , and Vintage"
   ]
  },
  {
   "cell_type": "code",
   "execution_count": 25,
   "metadata": {
    "application/vnd.databricks.v1+cell": {
     "inputWidgets": {},
     "nuid": "baade17a-a202-4e1e-b086-f80be3f7876c",
     "showTitle": false,
     "title": ""
    }
   },
   "outputs": [
    {
     "data": {
      "text/plain": [
       "Text(0.5, 1.0, 'Vintage vs Response')"
      ]
     },
     "execution_count": 25,
     "metadata": {},
     "output_type": "execute_result"
    },
    {
     "data": {
      "image/png": "[encoded data removed]",
      "text/plain": [
       "<Figure size 864x1080 with 3 Axes>"
      ]
     },
     "metadata": {
      "needs_background": "light"
     },
     "output_type": "display_data"
    }
   ],
   "source": [
    "f,(ax1, ax2, ax3) = plt.subplots(3,1, sharey=True,figsize=(12,15)) \n",
    "ax1.scatter(df_pd['Age'],df_pd['Response'])\n",
    "ax1.set_title(\"Age vs Response\", fontsize=15)\n",
    "ax2.scatter(df_pd['Annual_Premium'],df_pd['Response'])\n",
    "ax2.set_title(\"Annual_Premium vs Response\", fontsize=15)\n",
    "ax3.scatter(df_pd['Vintage'],df_pd['Response'])\n",
    "ax3.set_title(\"Vintage vs Response\", fontsize=15)"
   ]
  },
  {
   "cell_type": "code",
   "execution_count": 26,
   "metadata": {
    "application/vnd.databricks.v1+cell": {
     "inputWidgets": {},
     "nuid": "3f0b8983-7285-444d-9165-1e8f1c0cce5b",
     "showTitle": false,
     "title": ""
    }
   },
   "outputs": [],
   "source": [
    "#split data to train and test \n",
    "train_vi,test_vi = df_new.randomSplit([0.8,0.2],500)"
   ]
  },
  {
   "cell_type": "markdown",
   "metadata": {
    "application/vnd.databricks.v1+cell": {
     "inputWidgets": {},
     "nuid": "e66a94c4-d4fd-4de1-8881-4ad3a58cd25b",
     "showTitle": false,
     "title": ""
    }
   },
   "source": [
    "# Resamlping for unbalaneced data"
   ]
  },
  {
   "cell_type": "markdown",
   "metadata": {
    "application/vnd.databricks.v1+cell": {
     "inputWidgets": {},
     "nuid": "4bd6a471-65d1-4c8b-90d9-46e771e7ed5a",
     "showTitle": false,
     "title": ""
    }
   },
   "source": [
    "#### Oversampling"
   ]
  },
  {
   "cell_type": "code",
   "execution_count": 27,
   "metadata": {
    "application/vnd.databricks.v1+cell": {
     "inputWidgets": {},
     "nuid": "e7255ebc-e1e9-4510-9fee-ef1f9fca6530",
     "showTitle": false,
     "title": ""
    }
   },
   "outputs": [
    {
     "name": "stdout",
     "output_type": "stream",
     "text": [
      "ratio: 7\n",
      "+------+------+---+---------------+-----------+------------------+-----------+--------------+--------------+--------------------+-------+--------+\n",
      "|    id|Gender|Age|Driving_License|Region_Code|Previously_Insured|Vehicle_Age|Vehicle_Damage|Annual_Premium|Policy_Sales_Channel|Vintage|Response|\n",
      "+------+------+---+---------------+-----------+------------------+-----------+--------------+--------------+--------------------+-------+--------+\n",
      "|    10|Female| 32|              1|        6.0|                 1|   < 1 Year|            No|       28771.0|               152.0|     80|       0|\n",
      "|   100|Female| 24|              1|        7.0|                 1|   < 1 Year|           Yes|        2630.0|               160.0|     68|       0|\n",
      "|  1000|Female| 21|              1|       46.0|                 1|   < 1 Year|            No|       29298.0|               160.0|     37|       0|\n",
      "| 10000|Female| 25|              1|       45.0|                 1|   < 1 Year|            No|       18843.0|               152.0|    131|       0|\n",
      "|100000|  Male| 22|              1|        8.0|                 0|   < 1 Year|           Yes|       36513.0|               160.0|    189|       0|\n",
      "|100002|Female| 22|              1|       15.0|                 0|   < 1 Year|           Yes|       35832.0|               152.0|    289|       0|\n",
      "|100006|Female| 24|              1|       18.0|                 0|   < 1 Year|           Yes|       29040.0|               152.0|    286|       0|\n",
      "|100007|  Male| 41|              1|        8.0|                 0|   1-2 Year|            No|        2630.0|               124.0|     84|       0|\n",
      "|100008|  Male| 75|              1|       31.0|                 1|   1-2 Year|            No|        2630.0|               124.0|    154|       0|\n",
      "|100009|Female| 22|              1|       13.0|                 1|   < 1 Year|            No|       28133.0|               152.0|     14|       0|\n",
      "| 10001|  Male| 40|              1|       11.0|                 1|   1-2 Year|           Yes|        2630.0|               124.0|    289|       0|\n",
      "|100011|Female| 24|              1|        7.0|                 1|   < 1 Year|            No|        2630.0|               152.0|    247|       0|\n",
      "|100014|Female| 41|              1|       29.0|                 1|   1-2 Year|            No|       31509.0|               152.0|    115|       0|\n",
      "|100016|  Male| 26|              1|        6.0|                 1|   < 1 Year|            No|       33547.0|               152.0|    295|       0|\n",
      "|100017|Female| 21|              1|       50.0|                 1|   < 1 Year|           Yes|       39875.0|               152.0|    131|       0|\n",
      "|100018|Female| 24|              1|        8.0|                 1|   < 1 Year|            No|       37875.0|               152.0|    273|       0|\n",
      "|100019|  Male| 21|              1|       18.0|                 1|   1-2 Year|           Yes|        2630.0|               163.0|    272|       0|\n",
      "| 10002|  Male| 21|              1|       41.0|                 1|   < 1 Year|            No|       31438.0|               160.0|    243|       0|\n",
      "|100020|Female| 25|              1|       41.0|                 1|   < 1 Year|            No|       51992.0|               152.0|    264|       0|\n",
      "|100021|  Male| 43|              1|       28.0|                 0|   1-2 Year|           Yes|       42005.0|                26.0|    146|       0|\n",
      "+------+------+---+---------------+-----------+------------------+-----------+--------------+--------------+--------------------+-------+--------+\n",
      "only showing top 20 rows\n",
      "\n"
     ]
    }
   ],
   "source": [
    "#oversampling is implemented \n",
    "from pyspark.sql.functions import col, explode, array, lit\n",
    "major_df = train_vi.filter(col(\"Response\") == 0)\n",
    "minor_df = train_vi.filter(col(\"Response\") == 1)\n",
    "ratio = int(major_df.count()/minor_df.count())\n",
    "print(\"ratio: {}\".format(ratio))\n",
    "a = range(ratio)\n",
    "oversampled_df = minor_df.withColumn(\"dummy\", explode(array([lit(x) for x in a ]))).drop('dummy')\n",
    "train_vi_os = major_df.unionAll(oversampled_df)\n",
    "train_vi_os.show()"
   ]
  },
  {
   "cell_type": "code",
   "execution_count": 28,
   "metadata": {
    "application/vnd.databricks.v1+cell": {
     "inputWidgets": {},
     "nuid": "d0522ae0-b527-4d7b-9fe2-904f2e656584",
     "showTitle": false,
     "title": ""
    }
   },
   "outputs": [
    {
     "data": {
      "image/png": "[encoded data removed]",
      "text/plain": [
       "<Figure size 432x288 with 1 Axes>"
      ]
     },
     "metadata": {},
     "output_type": "display_data"
    }
   ],
   "source": [
    "#Now let's check whether the data is balanced then we'll enter model building part.\n",
    "df_rs1=train_vi_os.select('Response').toPandas()\n",
    "fig = plt.gcf()\n",
    "draw_pie_chart(df_rs1, 'Response', fig, {0: 0, 1: 1}, 'Percentage of responses')"
   ]
  },
  {
   "cell_type": "markdown",
   "metadata": {
    "application/vnd.databricks.v1+cell": {
     "inputWidgets": {},
     "nuid": "b9e6f794-efc1-47b9-9df4-caebd8400bd5",
     "showTitle": false,
     "title": ""
    }
   },
   "source": [
    "### The data is balanced now, next is model budilding for prediction!"
   ]
  },
  {
   "cell_type": "markdown",
   "metadata": {
    "application/vnd.databricks.v1+cell": {
     "inputWidgets": {},
     "nuid": "8100d8dc-ad77-49f9-8492-ebb7e65d72ca",
     "showTitle": false,
     "title": ""
    }
   },
   "source": [
    "# Machine Learning Model Building"
   ]
  },
  {
   "cell_type": "markdown",
   "metadata": {
    "application/vnd.databricks.v1+cell": {
     "inputWidgets": {},
     "nuid": "a595eed1-f315-4d9b-a141-175df8f71431",
     "showTitle": false,
     "title": ""
    }
   },
   "source": [
    "### Label encoding"
   ]
  },
  {
   "cell_type": "code",
   "execution_count": 29,
   "metadata": {
    "application/vnd.databricks.v1+cell": {
     "inputWidgets": {},
     "nuid": "5c3583f2-ee7f-4b39-bef0-2da6d3ce64ab",
     "showTitle": false,
     "title": ""
    }
   },
   "outputs": [],
   "source": [
    "from pyspark.ml.feature import (VectorAssembler,VectorIndexer,\n",
    "                                StringIndexer,OneHotEncoder)"
   ]
  },
  {
   "cell_type": "code",
   "execution_count": 30,
   "metadata": {
    "application/vnd.databricks.v1+cell": {
     "inputWidgets": {},
     "nuid": "c9624f3a-e332-4694-89d8-9eaf921000cf",
     "showTitle": false,
     "title": ""
    }
   },
   "outputs": [],
   "source": [
    "VA_indexer = StringIndexer(inputCol='Vehicle_Age',outputCol='Vehicle_AgeIndex')\n",
    "VD_indexer = StringIndexer(inputCol='Vehicle_Damage',outputCol='Vehicle_DamageIndex')\n",
    "Gen_indexer = StringIndexer(inputCol='Gender',outputCol='GenderIndex')\n",
    "DL_indexer = StringIndexer(inputCol='Driving_License',outputCol='Driving_LicenseIndex')\n",
    "RC_indexer = StringIndexer(inputCol='Region_Code',outputCol='Region_CodeIndex')\n",
    "PSC_indexer = StringIndexer(inputCol='Policy_Sales_Channel',outputCol='Policy_Sales_ChannelIndex')\n",
    "PI_indexer = StringIndexer(inputCol='Previously_Insured',outputCol='Previously_InsuredIndex')"
   ]
  },
  {
   "cell_type": "code",
   "execution_count": 31,
   "metadata": {
    "application/vnd.databricks.v1+cell": {
     "inputWidgets": {},
     "nuid": "3eec4db1-95dd-4690-93e6-eafb696ef1f6",
     "showTitle": false,
     "title": ""
    }
   },
   "outputs": [
    {
     "name": "stdout",
     "output_type": "stream",
     "text": [
      "+------+------+---+---------------+-----------+------------------+-----------+--------------+--------------+--------------------+-------+--------+\n",
      "|    id|Gender|Age|Driving_License|Region_Code|Previously_Insured|Vehicle_Age|Vehicle_Damage|Annual_Premium|Policy_Sales_Channel|Vintage|Response|\n",
      "+------+------+---+---------------+-----------+------------------+-----------+--------------+--------------+--------------------+-------+--------+\n",
      "|    10|Female| 32|              1|        6.0|                 1|   < 1 Year|            No|       28771.0|               152.0|     80|       0|\n",
      "|   100|Female| 24|              1|        7.0|                 1|   < 1 Year|           Yes|        2630.0|               160.0|     68|       0|\n",
      "|  1000|Female| 21|              1|       46.0|                 1|   < 1 Year|            No|       29298.0|               160.0|     37|       0|\n",
      "| 10000|Female| 25|              1|       45.0|                 1|   < 1 Year|            No|       18843.0|               152.0|    131|       0|\n",
      "|100000|  Male| 22|              1|        8.0|                 0|   < 1 Year|           Yes|       36513.0|               160.0|    189|       0|\n",
      "+------+------+---+---------------+-----------+------------------+-----------+--------------+--------------+--------------------+-------+--------+\n",
      "only showing top 5 rows\n",
      "\n"
     ]
    }
   ],
   "source": [
    "train_vi_os.show(5)"
   ]
  },
  {
   "cell_type": "code",
   "execution_count": 32,
   "metadata": {
    "application/vnd.databricks.v1+cell": {
     "inputWidgets": {},
     "nuid": "a682d5b2-55cd-4bb0-bc8f-24b5a1cf6e67",
     "showTitle": false,
     "title": ""
    }
   },
   "outputs": [],
   "source": [
    "input_cols_Label= ['GenderIndex', 'Vehicle_AgeIndex', 'Vehicle_DamageIndex', 'Age', 'Driving_LicenseIndex', 'Region_CodeIndex', 'Previously_InsuredIndex','Annual_Premium','Policy_Sales_ChannelIndex','Vintage']\n",
    "assembler_Label = VectorAssembler(inputCols=input_cols_Label,outputCol='features')"
   ]
  },
  {
   "cell_type": "code",
   "execution_count": 33,
   "metadata": {
    "application/vnd.databricks.v1+cell": {
     "inputWidgets": {},
     "nuid": "2465ff97-c494-4bc2-8850-7e923e2f0ba0",
     "showTitle": false,
     "title": ""
    }
   },
   "outputs": [],
   "source": [
    "from pyspark.ml.classification import LogisticRegression\n",
    "from pyspark.ml.classification import RandomForestClassifier\n",
    "from pyspark.ml.classification import DecisionTreeClassifier\n",
    "#pipeline \n",
    "from pyspark.ml import Pipeline"
   ]
  },
  {
   "cell_type": "code",
   "execution_count": 34,
   "metadata": {
    "application/vnd.databricks.v1+cell": {
     "inputWidgets": {},
     "nuid": "2304cb9b-c06a-4fcc-b9f5-824d4e871944",
     "showTitle": false,
     "title": ""
    }
   },
   "outputs": [],
   "source": [
    "# split data to  train and test\n",
    "#train_vi,test_vi = df_new1.randomSplit([0.8,0.2],500)"
   ]
  },
  {
   "cell_type": "markdown",
   "metadata": {
    "application/vnd.databricks.v1+cell": {
     "inputWidgets": {},
     "nuid": "c0054565-c630-4881-af96-2262704020b6",
     "showTitle": false,
     "title": ""
    }
   },
   "source": [
    "## Feature selection by Random forest classifier"
   ]
  },
  {
   "cell_type": "code",
   "execution_count": 35,
   "metadata": {
    "application/vnd.databricks.v1+cell": {
     "inputWidgets": {},
     "nuid": "a769ab04-232f-4376-9ec4-6612203d32e0",
     "showTitle": false,
     "title": ""
    }
   },
   "outputs": [],
   "source": [
    "rf_vi = RandomForestClassifier(featuresCol='features',labelCol='Response',maxBins=200)\n",
    "pipeline_rf_Label = Pipeline(stages=[VA_indexer,VD_indexer,Gen_indexer,RC_indexer,DL_indexer,PSC_indexer,PI_indexer,assembler_Label,rf_vi])"
   ]
  },
  {
   "cell_type": "code",
   "execution_count": 36,
   "metadata": {
    "application/vnd.databricks.v1+cell": {
     "inputWidgets": {},
     "nuid": "fab122ee-f96b-46e4-88f8-8d29b99feaee",
     "showTitle": false,
     "title": ""
    }
   },
   "outputs": [],
   "source": [
    "fit_rf_Label = pipeline_rf_Label.fit(train_vi_os)"
   ]
  },
  {
   "cell_type": "code",
   "execution_count": 37,
   "metadata": {
    "application/vnd.databricks.v1+cell": {
     "inputWidgets": {},
     "nuid": "abf02350-b4e6-49a7-8158-80a01bb2a135",
     "showTitle": false,
     "title": ""
    }
   },
   "outputs": [
    {
     "data": {
      "text/plain": [
       "SparseVector(10, {0: 0.0004, 1: 0.007, 2: 0.5036, 3: 0.0876, 4: 0.0002, 5: 0.0029, 6: 0.3778, 7: 0.0001, 8: 0.0204, 9: 0.0})"
      ]
     },
     "execution_count": 37,
     "metadata": {},
     "output_type": "execute_result"
    }
   ],
   "source": [
    "fit_rf_Label.stages[-1].featureImportances"
   ]
  },
  {
   "cell_type": "code",
   "execution_count": 38,
   "metadata": {
    "application/vnd.databricks.v1+cell": {
     "inputWidgets": {},
     "nuid": "f87c484e-06f4-4503-afe0-cae8fcf49c24",
     "showTitle": false,
     "title": ""
    }
   },
   "outputs": [],
   "source": [
    "df_new2 = fit_rf_Label.transform(train_vi_os)"
   ]
  },
  {
   "cell_type": "code",
   "execution_count": 39,
   "metadata": {
    "application/vnd.databricks.v1+cell": {
     "inputWidgets": {},
     "nuid": "8524d3c6-994a-4107-b1d8-7c7a2a6439ad",
     "showTitle": false,
     "title": ""
    }
   },
   "outputs": [],
   "source": [
    "def ExtractFeatureImp(featureImp, dataset, featuresCol):\n",
    "    list_extract = []\n",
    "    for i in dataset.schema[featuresCol].metadata[\"ml_attr\"][\"attrs\"]:\n",
    "        list_extract = list_extract + dataset.schema[featuresCol].metadata[\"ml_attr\"][\"attrs\"][i]\n",
    "    varlist = pd.DataFrame(list_extract)\n",
    "    varlist['score'] = varlist['idx'].apply(lambda x: featureImp[x])\n",
    "    return(varlist.sort_values('score', ascending = False))"
   ]
  },
  {
   "cell_type": "code",
   "execution_count": 40,
   "metadata": {
    "application/vnd.databricks.v1+cell": {
     "inputWidgets": {},
     "nuid": "403e20ef-2abb-4dc1-9361-6ac0483135f1",
     "showTitle": false,
     "title": ""
    }
   },
   "outputs": [
    {
     "data": {
      "text/html": [
       "<div>\n",
       "<style scoped>\n",
       "    .dataframe tbody tr th:only-of-type {\n",
       "        vertical-align: middle;\n",
       "    }\n",
       "\n",
       "    .dataframe tbody tr th {\n",
       "        vertical-align: top;\n",
       "    }\n",
       "\n",
       "    .dataframe thead th {\n",
       "        text-align: right;\n",
       "    }\n",
       "</style>\n",
       "<table border=\"1\" class=\"dataframe\">\n",
       "  <thead>\n",
       "    <tr style=\"text-align: right;\">\n",
       "      <th></th>\n",
       "      <th>idx</th>\n",
       "      <th>name</th>\n",
       "      <th>vals</th>\n",
       "      <th>score</th>\n",
       "    </tr>\n",
       "  </thead>\n",
       "  <tbody>\n",
       "    <tr>\n",
       "      <th>5</th>\n",
       "      <td>2</td>\n",
       "      <td>Vehicle_DamageIndex</td>\n",
       "      <td>[Yes, No]</td>\n",
       "      <td>0.503627</td>\n",
       "    </tr>\n",
       "    <tr>\n",
       "      <th>8</th>\n",
       "      <td>6</td>\n",
       "      <td>Previously_InsuredIndex</td>\n",
       "      <td>[0, 1]</td>\n",
       "      <td>0.377819</td>\n",
       "    </tr>\n",
       "    <tr>\n",
       "      <th>0</th>\n",
       "      <td>3</td>\n",
       "      <td>Age</td>\n",
       "      <td>NaN</td>\n",
       "      <td>0.087565</td>\n",
       "    </tr>\n",
       "    <tr>\n",
       "      <th>9</th>\n",
       "      <td>8</td>\n",
       "      <td>Policy_Sales_ChannelIndex</td>\n",
       "      <td>[26.0, 152.0, 124.0, 156.0, 160.0, 122.0, 157....</td>\n",
       "      <td>0.020399</td>\n",
       "    </tr>\n",
       "    <tr>\n",
       "      <th>4</th>\n",
       "      <td>1</td>\n",
       "      <td>Vehicle_AgeIndex</td>\n",
       "      <td>[1-2 Year, &lt; 1 Year, &gt; 2 Years]</td>\n",
       "      <td>0.007020</td>\n",
       "    </tr>\n",
       "    <tr>\n",
       "      <th>7</th>\n",
       "      <td>5</td>\n",
       "      <td>Region_CodeIndex</td>\n",
       "      <td>[28.0, 8.0, 46.0, 41.0, 15.0, 29.0, 30.0, 3.0,...</td>\n",
       "      <td>0.002859</td>\n",
       "    </tr>\n",
       "    <tr>\n",
       "      <th>3</th>\n",
       "      <td>0</td>\n",
       "      <td>GenderIndex</td>\n",
       "      <td>[Male, Female]</td>\n",
       "      <td>0.000430</td>\n",
       "    </tr>\n",
       "    <tr>\n",
       "      <th>6</th>\n",
       "      <td>4</td>\n",
       "      <td>Driving_LicenseIndex</td>\n",
       "      <td>[1, 0]</td>\n",
       "      <td>0.000196</td>\n",
       "    </tr>\n",
       "    <tr>\n",
       "      <th>1</th>\n",
       "      <td>7</td>\n",
       "      <td>Annual_Premium</td>\n",
       "      <td>NaN</td>\n",
       "      <td>0.000053</td>\n",
       "    </tr>\n",
       "    <tr>\n",
       "      <th>2</th>\n",
       "      <td>9</td>\n",
       "      <td>Vintage</td>\n",
       "      <td>NaN</td>\n",
       "      <td>0.000034</td>\n",
       "    </tr>\n",
       "  </tbody>\n",
       "</table>\n",
       "</div>"
      ],
      "text/plain": [
       "   idx                       name  \\\n",
       "5    2        Vehicle_DamageIndex   \n",
       "8    6    Previously_InsuredIndex   \n",
       "0    3                        Age   \n",
       "9    8  Policy_Sales_ChannelIndex   \n",
       "4    1           Vehicle_AgeIndex   \n",
       "7    5           Region_CodeIndex   \n",
       "3    0                GenderIndex   \n",
       "6    4       Driving_LicenseIndex   \n",
       "1    7             Annual_Premium   \n",
       "2    9                    Vintage   \n",
       "\n",
       "                                                vals     score  \n",
       "5                                          [Yes, No]  0.503627  \n",
       "8                                             [0, 1]  0.377819  \n",
       "0                                                NaN  0.087565  \n",
       "9  [26.0, 152.0, 124.0, 156.0, 160.0, 122.0, 157....  0.020399  \n",
       "4                    [1-2 Year, < 1 Year, > 2 Years]  0.007020  \n",
       "7  [28.0, 8.0, 46.0, 41.0, 15.0, 29.0, 30.0, 3.0,...  0.002859  \n",
       "3                                     [Male, Female]  0.000430  \n",
       "6                                             [1, 0]  0.000196  \n",
       "1                                                NaN  0.000053  \n",
       "2                                                NaN  0.000034  "
      ]
     },
     "execution_count": 40,
     "metadata": {},
     "output_type": "execute_result"
    }
   ],
   "source": [
    "ExtractFeatureImp(fit_rf_Label.stages[-1].featureImportances, df_new2, \"features\")"
   ]
  },
  {
   "cell_type": "code",
   "execution_count": 41,
   "metadata": {
    "application/vnd.databricks.v1+cell": {
     "inputWidgets": {},
     "nuid": "0dd45fa5-502c-4210-b43d-0443ba4dd6c7",
     "showTitle": false,
     "title": ""
    }
   },
   "outputs": [
    {
     "data": {
      "text/plain": [
       "['Vehicle_DamageIndex', 'Previously_InsuredIndex', 'Age', 'Response']"
      ]
     },
     "execution_count": 41,
     "metadata": {},
     "output_type": "execute_result"
    }
   ],
   "source": [
    "features=ExtractFeatureImp(fit_rf_Label.stages[-1].featureImportances, df_new2, \"features\")\n",
    "features=features[features.score>0.05].iloc[:,1].tolist()\n",
    "vars=features+['Response']\n",
    "vars"
   ]
  },
  {
   "cell_type": "code",
   "execution_count": 42,
   "metadata": {
    "application/vnd.databricks.v1+cell": {
     "inputWidgets": {},
     "nuid": "a5b9adec-2cc6-46ca-aca1-4dd73b8ec690",
     "showTitle": false,
     "title": ""
    }
   },
   "outputs": [],
   "source": [
    "train_vi_os_selected = fit_rf_Label.transform(train_vi_os).select(vars)\n",
    "test_vi_selected = fit_rf_Label.transform(test_vi).select(vars)\n",
    "train_vi_selected = fit_rf_Label.transform(train_vi).select(vars)  #  train dataset before oversampling"
   ]
  },
  {
   "cell_type": "code",
   "execution_count": 43,
   "metadata": {
    "application/vnd.databricks.v1+cell": {
     "inputWidgets": {},
     "nuid": "834e0cde-8e3f-49db-8e5d-466a8ec9ae2a",
     "showTitle": false,
     "title": ""
    }
   },
   "outputs": [],
   "source": [
    "assembler = VectorAssembler(inputCols= features, outputCol=\"features\")\n",
    "df_train_os = assembler.transform(train_vi_os_selected)\n",
    "df_test = assembler.transform(test_vi_selected)\n",
    "df_train = assembler.transform(train_vi_selected) #  train dataset before oversampling"
   ]
  },
  {
   "cell_type": "markdown",
   "metadata": {
    "application/vnd.databricks.v1+cell": {
     "inputWidgets": {},
     "nuid": "392827a3-6bab-4e48-b74e-3f66b5b524f3",
     "showTitle": false,
     "title": ""
    }
   },
   "source": [
    "## Using 3 algorithms to build the model.\n",
    "### 1. Logistic Regression\n",
    "### 2. Random Forest Classifier\n",
    "### 3. Decision Tree Classifier"
   ]
  },
  {
   "cell_type": "code",
   "execution_count": 44,
   "metadata": {
    "application/vnd.databricks.v1+cell": {
     "inputWidgets": {},
     "nuid": "494e4572-f1e8-441b-b4cf-bfb8e26527af",
     "showTitle": false,
     "title": ""
    }
   },
   "outputs": [],
   "source": [
    "lr_vi = LogisticRegression(featuresCol='features',labelCol='Response')\n",
    "rf_vi = RandomForestClassifier(featuresCol='features',labelCol='Response',maxBins=200)\n",
    "dt_vi = DecisionTreeClassifier(featuresCol = 'features', labelCol = 'Response')"
   ]
  },
  {
   "cell_type": "code",
   "execution_count": 45,
   "metadata": {
    "application/vnd.databricks.v1+cell": {
     "inputWidgets": {},
     "nuid": "f823fe9a-1878-4f48-887f-17801499e7c7",
     "showTitle": false,
     "title": ""
    }
   },
   "outputs": [],
   "source": [
    "fit_lr = lr_vi.fit(df_train_os)\n",
    "fit_rf = rf_vi.fit(df_train_os)\n",
    "fit_dt = dt_vi.fit(df_train_os)"
   ]
  },
  {
   "cell_type": "code",
   "execution_count": 46,
   "metadata": {
    "application/vnd.databricks.v1+cell": {
     "inputWidgets": {},
     "nuid": "c554d31a-2c9a-41b5-bd86-daf2961f8620",
     "showTitle": false,
     "title": ""
    }
   },
   "outputs": [],
   "source": [
    "test_lr_results = fit_lr.transform(df_test)\n",
    "test_rf_results = fit_rf.transform(df_test)\n",
    "test_dt_results = fit_dt.transform(df_test)"
   ]
  },
  {
   "cell_type": "code",
   "execution_count": 47,
   "metadata": {
    "application/vnd.databricks.v1+cell": {
     "inputWidgets": {},
     "nuid": "96cb59e7-908d-4f83-9fdb-4d800c08c428",
     "showTitle": false,
     "title": ""
    }
   },
   "outputs": [],
   "source": [
    "from pyspark.ml.evaluation import BinaryClassificationEvaluator\n",
    "from pyspark.ml.evaluation import MulticlassClassificationEvaluator\n",
    "from pyspark.mllib.evaluation import BinaryClassificationMetrics"
   ]
  },
  {
   "cell_type": "code",
   "execution_count": 48,
   "metadata": {
    "application/vnd.databricks.v1+cell": {
     "inputWidgets": {},
     "nuid": "b15f6926-e181-45f5-8fd3-8fa18a5c3e9d",
     "showTitle": false,
     "title": ""
    }
   },
   "outputs": [
    {
     "data": {
      "text/plain": [
       "MulticlassClassificationEvaluator_3e109cc52ad4"
      ]
     },
     "execution_count": 48,
     "metadata": {},
     "output_type": "execute_result"
    }
   ],
   "source": [
    "AUC_eval = BinaryClassificationEvaluator(rawPredictionCol='prediction', labelCol='Response')\n",
    "Accu_evaluator = MulticlassClassificationEvaluator()\n",
    "Accu_evaluator.setPredictionCol('prediction')\n",
    "Accu_evaluator.setLabelCol('Response')"
   ]
  },
  {
   "cell_type": "markdown",
   "metadata": {
    "application/vnd.databricks.v1+cell": {
     "inputWidgets": {},
     "nuid": "768bdac0-5032-4619-b26d-d2802428839e",
     "showTitle": false,
     "title": ""
    }
   },
   "source": [
    "### Accuracy"
   ]
  },
  {
   "cell_type": "code",
   "execution_count": 49,
   "metadata": {
    "application/vnd.databricks.v1+cell": {
     "inputWidgets": {},
     "nuid": "7a04f723-f780-4397-a953-b6da167e49f5",
     "showTitle": false,
     "title": ""
    }
   },
   "outputs": [
    {
     "name": "stdout",
     "output_type": "stream",
     "text": [
      "Test Accuracy of Logistic Regression:   0.6383528298059369\n",
      "Test Accuracy of Random Forest Classifier:   0.6600175806342552\n",
      "Test Accuracy of Decision Tree Classifier:   0.6862668199337345\n"
     ]
    }
   ],
   "source": [
    "Accu_test_lr = Accu_evaluator.evaluate(test_lr_results, {Accu_evaluator.metricName: \"accuracy\"})\n",
    "Accu_test_rf = Accu_evaluator.evaluate(test_rf_results, {Accu_evaluator.metricName: \"accuracy\"})\n",
    "Accu_test_dt = Accu_evaluator.evaluate(test_dt_results, {Accu_evaluator.metricName: \"accuracy\"})\n",
    "\n",
    "print(\"Test Accuracy of Logistic Regression:  \", Accu_test_lr)\n",
    "print(\"Test Accuracy of Random Forest Classifier:  \", Accu_test_rf)\n",
    "print(\"Test Accuracy of Decision Tree Classifier:  \", Accu_test_dt)"
   ]
  },
  {
   "cell_type": "markdown",
   "metadata": {
    "application/vnd.databricks.v1+cell": {
     "inputWidgets": {},
     "nuid": "58ecf5de-4631-48bc-9362-551f9a03f59f",
     "showTitle": false,
     "title": ""
    }
   },
   "source": [
    "### AUC"
   ]
  },
  {
   "cell_type": "code",
   "execution_count": 50,
   "metadata": {
    "application/vnd.databricks.v1+cell": {
     "inputWidgets": {},
     "nuid": "bc9969b6-ee6d-49fc-ade6-b71c7fac2c79",
     "showTitle": false,
     "title": ""
    }
   },
   "outputs": [
    {
     "name": "stdout",
     "output_type": "stream",
     "text": [
      "AUC of Logistic Regression:  0.7839513178259239\n",
      "AUC of Random Forest Classifier:  0.7900153915562177\n",
      "AUC of Decision Tree Classifier:  0.7914649163336103\n"
     ]
    }
   ],
   "source": [
    "AUC_test_lr = AUC_eval.evaluate(test_lr_results)\n",
    "AUC_test_rf = AUC_eval.evaluate(test_rf_results)\n",
    "AUC_test_dt = AUC_eval.evaluate(test_dt_results)\n",
    "\n",
    "print(\"AUC of Logistic Regression: \", AUC_test_lr)\n",
    "print(\"AUC of Random Forest Classifier: \", AUC_test_rf)\n",
    "print(\"AUC of Decision Tree Classifier: \", AUC_test_dt)"
   ]
  },
  {
   "cell_type": "markdown",
   "metadata": {},
   "source": [
    "## AUC-ROC Plot For Decision Tree"
   ]
  },
  {
   "cell_type": "code",
   "execution_count": 51,
   "metadata": {},
   "outputs": [
    {
     "data": {
      "image/png": "[encoded data removed]",
      "text/plain": [
       "<Figure size 432x288 with 1 Axes>"
      ]
     },
     "metadata": {
      "needs_background": "light"
     },
     "output_type": "display_data"
    }
   ],
   "source": [
    "model = fit_dt\n",
    "predictions = test_dt_results\n",
    "preds = predictions.select('prediction','Response')\\\n",
    "    .rdd.map(lambda row: (float(row['prediction']), float(row['Response'])))\\\n",
    "    .collect()\n",
    "from sklearn.metrics import roc_curve\n",
    "import sklearn.metrics as metrics\n",
    "y_score, y_true = zip(*preds)\n",
    "fpr, tpr, thresholds = roc_curve(y_true, y_score, pos_label = 1)\n",
    "roc_auc = metrics.auc(fpr, tpr)\n",
    "import matplotlib.pyplot as plt\n",
    "plt.title('Receiver Operating Characteristic for Decision Tree')\n",
    "plt.plot(fpr, tpr, 'b', label = 'AUC = %0.2f' % roc_auc)\n",
    "plt.legend(loc = 'lower right')\n",
    "plt.plot([0, 1], [0, 1],'r--')\n",
    "plt.xlim([0, 1])\n",
    "plt.ylim([0, 1])\n",
    "plt.ylabel('True Positive Rate')\n",
    "plt.xlabel('False Positive Rate')\n",
    "plt.show()"
   ]
  },
  {
   "cell_type": "markdown",
   "metadata": {
    "application/vnd.databricks.v1+cell": {
     "inputWidgets": {},
     "nuid": "f66c26f7-3ec1-4e99-ac85-95d90eddfa2f",
     "showTitle": false,
     "title": ""
    }
   },
   "source": [
    "#Sensitivity"
   ]
  },
  {
   "cell_type": "code",
   "execution_count": 52,
   "metadata": {
    "application/vnd.databricks.v1+cell": {
     "inputWidgets": {},
     "nuid": "538ba44d-347e-43a5-84bd-43f236fbc7f1",
     "showTitle": false,
     "title": ""
    }
   },
   "outputs": [],
   "source": [
    "rdd_dt= sc.parallelize(test_dt_results.select('prediction','Response').collect())\n",
    "rdd_lr= sc.parallelize(test_lr_results.select('prediction','Response').collect())\n",
    "rdd_rf= sc.parallelize(test_rf_results.select('prediction','Response').collect())"
   ]
  },
  {
   "cell_type": "code",
   "execution_count": 53,
   "metadata": {
    "application/vnd.databricks.v1+cell": {
     "inputWidgets": {},
     "nuid": "b187703e-42f7-47a1-918f-ef1069f4b42e",
     "showTitle": false,
     "title": ""
    }
   },
   "outputs": [],
   "source": [
    "df_dt= sqlContext.createDataFrame(rdd_dt, [\"prediction\", \"Response\"])\n",
    "df_lr= sqlContext.createDataFrame(rdd_lr, [\"prediction\", \"Response\"])\n",
    "df_rf= sqlContext.createDataFrame(rdd_rf, [\"prediction\", \"Response\"])"
   ]
  },
  {
   "cell_type": "markdown",
   "metadata": {
    "application/vnd.databricks.v1+cell": {
     "inputWidgets": {},
     "nuid": "579dedbb-04fc-4043-a0f6-d7c5d9e96154",
     "showTitle": false,
     "title": ""
    }
   },
   "source": [
    "### Check evaluation standards"
   ]
  },
  {
   "cell_type": "markdown",
   "metadata": {
    "application/vnd.databricks.v1+cell": {
     "inputWidgets": {},
     "nuid": "ae261f2f-a719-465e-976f-47af04d922fa",
     "showTitle": false,
     "title": ""
    }
   },
   "source": [
    "### Evaluation standard"
   ]
  },
  {
   "cell_type": "code",
   "execution_count": 54,
   "metadata": {
    "application/vnd.databricks.v1+cell": {
     "inputWidgets": {},
     "nuid": "fe6ad34d-43b8-4bdd-a427-103858e9bc64",
     "showTitle": false,
     "title": ""
    }
   },
   "outputs": [],
   "source": [
    "tp_dt = df_dt[(df_dt.Response == 1) & (df_dt.prediction == 1)].count()\n",
    "tn_dt = df_dt[(df_dt.Response == 0) & (df_dt.prediction == 0)].count()\n",
    "fp_dt = df_dt[(df_dt.Response == 0) & (df_dt.prediction == 1)].count()\n",
    "fn_dt = df_dt[(df_dt.Response == 1) & (df_dt.prediction == 0)].count()\n",
    "\n",
    "\n",
    "tp_lr = df_lr[(df_lr.Response == 1) & (df_lr.prediction == 1)].count()\n",
    "tn_lr = df_lr[(df_lr.Response == 0) & (df_lr.prediction == 0)].count()\n",
    "fp_lr = df_lr[(df_lr.Response == 0) & (df_lr.prediction == 1)].count()\n",
    "fn_lr = df_lr[(df_lr.Response == 1) & (df_lr.prediction == 0)].count()\n",
    "\n",
    "tp_rf = df_rf[(df_rf.Response == 1) & (df_rf.prediction == 1)].count()\n",
    "tn_rf = df_rf[(df_rf.Response == 0) & (df_rf.prediction == 0)].count()\n",
    "fp_rf = df_rf[(df_rf.Response == 0) & (df_rf.prediction == 1)].count()\n",
    "fn_rf = df_rf[(df_rf.Response == 1) & (df_rf.prediction == 0)].count()\n"
   ]
  },
  {
   "cell_type": "markdown",
   "metadata": {
    "application/vnd.databricks.v1+cell": {
     "inputWidgets": {},
     "nuid": "1a6a5ca3-89ef-4ad0-afb9-a6bac2a19fac",
     "showTitle": false,
     "title": ""
    }
   },
   "source": [
    "## Sensitivity"
   ]
  },
  {
   "cell_type": "code",
   "execution_count": 55,
   "metadata": {
    "application/vnd.databricks.v1+cell": {
     "inputWidgets": {},
     "nuid": "b72c58eb-aba2-4f40-9908-45a79ab9c65a",
     "showTitle": false,
     "title": ""
    }
   },
   "outputs": [
    {
     "name": "stdout",
     "output_type": "stream",
     "text": [
      "Sensitivity for  decision tree 0.9300393037619314\n",
      "\n",
      "\n",
      "Sensitivity for  logistic regression 0.975743964065132\n",
      "Sensitivity for random forest  0.961257720381808\n"
     ]
    }
   ],
   "source": [
    "Sensitivity_df =float(tp_dt)/(tp_dt + fn_dt)\n",
    "print(\"Sensitivity for  decision tree\",Sensitivity_df)\n",
    "\n",
    "print('\\n')\n",
    "\n",
    "Sensitivity_lr =float(tp_lr)/(tp_lr + fn_lr)\n",
    "print(\"Sensitivity for  logistic regression\",Sensitivity_lr)\n",
    "\n",
    "Sensitivity_rf =float(tp_rf)/(tp_rf + fn_rf)\n",
    "print(\"Sensitivity for random forest \",Sensitivity_rf)"
   ]
  },
  {
   "cell_type": "markdown",
   "metadata": {
    "application/vnd.databricks.v1+cell": {
     "inputWidgets": {},
     "nuid": "e98de9d0-90f5-48a5-8505-1b836ee42ccd",
     "showTitle": false,
     "title": ""
    }
   },
   "source": [
    "### The best model is Decision Tree Classifier with 68.93% accuracy and 92.91% sensitivity."
   ]
  },
  {
   "cell_type": "markdown",
   "metadata": {
    "application/vnd.databricks.v1+cell": {
     "inputWidgets": {},
     "nuid": "1a5104ad-876b-47fa-922d-a2d8f1c2b1a5",
     "showTitle": false,
     "title": ""
    }
   },
   "source": [
    "### Checking overfitting. Compare accuray of train (before oversampling) and test dataset"
   ]
  },
  {
   "cell_type": "code",
   "execution_count": 56,
   "metadata": {
    "application/vnd.databricks.v1+cell": {
     "inputWidgets": {},
     "nuid": "88732ed1-be18-49d1-918e-a11a94034f17",
     "showTitle": false,
     "title": ""
    }
   },
   "outputs": [
    {
     "name": "stdout",
     "output_type": "stream",
     "text": [
      "Test Accuracy of Decision Tree Classifier:   0.6862668199337345\n",
      "Train Accuracy of Decision Tree Classifier:   0.687297031437388\n"
     ]
    }
   ],
   "source": [
    "train_dt_results = fit_dt.transform(df_train)\n",
    "Accu_train_dt = Accu_evaluator.evaluate(train_dt_results, {Accu_evaluator.metricName: \"accuracy\"})\n",
    "\n",
    "print(\"Test Accuracy of Decision Tree Classifier:  \", Accu_test_dt)\n",
    "print(\"Train Accuracy of Decision Tree Classifier:  \", Accu_train_dt)"
   ]
  },
  {
   "cell_type": "markdown",
   "metadata": {
    "application/vnd.databricks.v1+cell": {
     "inputWidgets": {},
     "nuid": "e9e3b6b9-f97d-4157-ae7f-fbb634613327",
     "showTitle": false,
     "title": ""
    }
   },
   "source": [
    "### Both accuray scores are about the same. The model is not overfitting."
   ]
  },
  {
   "cell_type": "markdown",
   "metadata": {
    "application/vnd.databricks.v1+cell": {
     "inputWidgets": {},
     "nuid": "f5fe3d5a-3c70-49c0-b6fd-d1781473c4f4",
     "showTitle": false,
     "title": ""
    }
   },
   "source": [
    "# Improving the model with 2 approaches.\n",
    "### 1. Change Label encoding to one-hot encoding\n",
    "### 2. Change oversampling to undersampling"
   ]
  },
  {
   "cell_type": "markdown",
   "metadata": {
    "application/vnd.databricks.v1+cell": {
     "inputWidgets": {},
     "nuid": "943e4ac4-13a0-4141-b132-04f6a0898cda",
     "showTitle": false,
     "title": ""
    }
   },
   "source": [
    "### 1. Change Label encoding to one-hot encoding"
   ]
  },
  {
   "cell_type": "code",
   "execution_count": 57,
   "metadata": {
    "application/vnd.databricks.v1+cell": {
     "inputWidgets": {},
     "nuid": "cfc4736b-1df6-4fc0-966f-9f3b0c3982f7",
     "showTitle": false,
     "title": ""
    }
   },
   "outputs": [],
   "source": [
    "train_vi_os = train_vi_os.select('Vehicle_Damage', 'Age', 'Previously_Insured','Response')\n",
    "test_vi =  test_vi.select('Vehicle_Damage', 'Age', 'Previously_Insured','Response')\n",
    "# based on feature selection"
   ]
  },
  {
   "cell_type": "code",
   "execution_count": 58,
   "metadata": {
    "application/vnd.databricks.v1+cell": {
     "inputWidgets": {},
     "nuid": "b119422b-7488-4a53-aecb-d76003f05211",
     "showTitle": false,
     "title": ""
    }
   },
   "outputs": [],
   "source": [
    "VD_indexer = StringIndexer(inputCol='Vehicle_Damage',outputCol='Vehicle_DamageIndex')\n",
    "PI_indexer = StringIndexer(inputCol='Previously_Insured',outputCol='Previously_InsuredIndex')\n",
    "\n",
    "VD_encoder = OneHotEncoder(inputCol='Vehicle_DamageIndex',outputCol='Vehicle_DamageVec')\n",
    "PI_encoder =OneHotEncoder(inputCol='Previously_InsuredIndex',outputCol='Previously_InsuredVec')"
   ]
  },
  {
   "cell_type": "code",
   "execution_count": 59,
   "metadata": {
    "application/vnd.databricks.v1+cell": {
     "inputWidgets": {},
     "nuid": "6c2a0808-3e93-446d-adf7-c690cc53f6b5",
     "showTitle": false,
     "title": ""
    }
   },
   "outputs": [],
   "source": [
    "input_cols_hot= ['Vehicle_DamageVec', 'Age', 'Previously_InsuredVec']\n",
    "assembler_hot = VectorAssembler(inputCols=input_cols_hot,outputCol='features')"
   ]
  },
  {
   "cell_type": "code",
   "execution_count": 60,
   "metadata": {
    "application/vnd.databricks.v1+cell": {
     "inputWidgets": {},
     "nuid": "44e069b3-f4f5-4a27-90c2-8c534bdbad63",
     "showTitle": false,
     "title": ""
    }
   },
   "outputs": [],
   "source": [
    "dt_vi = DecisionTreeClassifier(featuresCol = 'features', labelCol = 'Response')\n",
    "pipeline_dt_hot = Pipeline(stages=[VD_indexer,PI_indexer,VD_encoder,PI_encoder,assembler_hot,dt_vi])"
   ]
  },
  {
   "cell_type": "code",
   "execution_count": 61,
   "metadata": {
    "application/vnd.databricks.v1+cell": {
     "inputWidgets": {},
     "nuid": "2e68caa1-e5e9-4c13-b31c-0ace26649f84",
     "showTitle": false,
     "title": ""
    }
   },
   "outputs": [
    {
     "name": "stdout",
     "output_type": "stream",
     "text": [
      "Test Accuracy of Decision Tree Classifier for One-hot encoding:   0.6862668199337345\n"
     ]
    }
   ],
   "source": [
    "fit_dt_hot = pipeline_dt_hot.fit(train_vi_os)\n",
    "test_dt_hot_results = fit_dt_hot.transform(test_vi)\n",
    "Accu_test_hot = Accu_evaluator.evaluate(test_dt_hot_results, {Accu_evaluator.metricName: \"accuracy\"})\n",
    "print(\"Test Accuracy of Decision Tree Classifier for One-hot encoding:  \", Accu_test_hot)"
   ]
  },
  {
   "cell_type": "markdown",
   "metadata": {
    "application/vnd.databricks.v1+cell": {
     "inputWidgets": {},
     "nuid": "1b48abcb-5bcb-4829-8bc8-9a9898d9f755",
     "showTitle": false,
     "title": ""
    }
   },
   "source": [
    "### There is no difference between Label encoding and One-hot encoding"
   ]
  },
  {
   "cell_type": "markdown",
   "metadata": {
    "application/vnd.databricks.v1+cell": {
     "inputWidgets": {},
     "nuid": "102f7f18-a9fe-4640-82d7-b93d5b02fdb2",
     "showTitle": false,
     "title": ""
    }
   },
   "source": [
    "### 2.Change oversampling to undersampling"
   ]
  },
  {
   "cell_type": "code",
   "execution_count": 62,
   "metadata": {
    "application/vnd.databricks.v1+cell": {
     "inputWidgets": {},
     "nuid": "905518b5-a6cc-45ad-9c3c-1b4487a2a012",
     "showTitle": false,
     "title": ""
    }
   },
   "outputs": [
    {
     "name": "stdout",
     "output_type": "stream",
     "text": [
      "ratio: 7\n"
     ]
    }
   ],
   "source": [
    "from pyspark.sql.functions import col, explode, array, lit\n",
    "major_df = train_vi.filter(col(\"Response\") == 0)\n",
    "minor_df = train_vi.filter(col(\"Response\") == 1)\n",
    "ratio = int(major_df.count()/minor_df.count())\n",
    "print(\"ratio: {}\".format(ratio))\n",
    "sampled_majority_df = major_df.sample(False, 1/ratio)\n",
    "train_vi_us = sampled_majority_df.unionAll(minor_df)\n",
    "train_vi_us =  train_vi_us.select('Vehicle_Damage', 'Age', 'Previously_Insured','Response')"
   ]
  },
  {
   "cell_type": "code",
   "execution_count": 63,
   "metadata": {
    "application/vnd.databricks.v1+cell": {
     "inputWidgets": {},
     "nuid": "aca93dd1-3b22-49f0-8cb2-f10d868bc5a5",
     "showTitle": false,
     "title": ""
    }
   },
   "outputs": [
    {
     "data": {
      "image/png": "[encoded data removed]",
      "text/plain": [
       "<Figure size 432x288 with 1 Axes>"
      ]
     },
     "metadata": {},
     "output_type": "display_data"
    }
   ],
   "source": [
    "df_rs2=train_vi_us.select('Response').toPandas()\n",
    "fig = plt.gcf()\n",
    "draw_pie_chart(df_rs2, 'Response', fig, {0: 0, 1: 1}, 'Percentage of responses')"
   ]
  },
  {
   "cell_type": "code",
   "execution_count": 64,
   "metadata": {
    "application/vnd.databricks.v1+cell": {
     "inputWidgets": {},
     "nuid": "bf699ac1-448d-4577-9416-00a91d7c535c",
     "showTitle": false,
     "title": ""
    }
   },
   "outputs": [],
   "source": [
    "input_cols_us= ['Vehicle_DamageIndex', 'Age', 'Previously_InsuredIndex']\n",
    "assembler_us = VectorAssembler(inputCols=input_cols_us,outputCol='features')"
   ]
  },
  {
   "cell_type": "code",
   "execution_count": 65,
   "metadata": {
    "application/vnd.databricks.v1+cell": {
     "inputWidgets": {},
     "nuid": "91b2010a-ccb8-4234-a4a0-f9a0d2de4b7a",
     "showTitle": false,
     "title": ""
    }
   },
   "outputs": [],
   "source": [
    "dt_vi = DecisionTreeClassifier(featuresCol = 'features', labelCol = 'Response')\n",
    "pipeline_dt_us = Pipeline(stages=[VD_indexer,PI_indexer,assembler_us,dt_vi])"
   ]
  },
  {
   "cell_type": "code",
   "execution_count": 66,
   "metadata": {
    "application/vnd.databricks.v1+cell": {
     "inputWidgets": {},
     "nuid": "bfbe9fde-1f04-40eb-bd2f-09bb395d9fbb",
     "showTitle": false,
     "title": ""
    }
   },
   "outputs": [
    {
     "name": "stdout",
     "output_type": "stream",
     "text": [
      "Test Accuracy of Decision Tree Classifier for undersampling:   0.6600175806342552\n"
     ]
    }
   ],
   "source": [
    "fit_dt_us = pipeline_dt_us.fit(train_vi_us)\n",
    "test_dt_us_results = fit_dt_us.transform(test_vi)\n",
    "Accu_test_us = Accu_evaluator.evaluate(test_dt_us_results, {Accu_evaluator.metricName: \"accuracy\"})\n",
    "print(\"Test Accuracy of Decision Tree Classifier for undersampling:  \", Accu_test_us)"
   ]
  },
  {
   "cell_type": "markdown",
   "metadata": {
    "application/vnd.databricks.v1+cell": {
     "inputWidgets": {},
     "nuid": "dcf83918-eefb-49c3-accd-b38c1a78bcca",
     "showTitle": false,
     "title": ""
    }
   },
   "source": [
    "### The accuracy score of undersampling slightly decreases.\n",
    "### Therefore, we summarize that the best model is built from,\n",
    "### 1. Using 3 variables, including Vehicle_Damage, Age, Previously_Insured.\n",
    "### 2. Using Oversampling to solve unbalanced issue.\n",
    "### 3. Label encoding and One-hot encoding both generate same result.\n",
    "### 4. Using Decision Tree Classifier algorithm.\n",
    "### 5. Accuracy score = 68.93% and AUC = 0.79.\n",
    "### 6. Sensitivity score = 92.91%"
   ]
  },
  {
   "cell_type": "code",
   "execution_count": null,
   "metadata": {
    "application/vnd.databricks.v1+cell": {
     "inputWidgets": {},
     "nuid": "d5151042-83df-43f6-b25a-ad87dc0bbb7e",
     "showTitle": false,
     "title": ""
    }
   },
   "outputs": [],
   "source": []
  }
 ],
 "metadata": {
  "application/vnd.databricks.v1+notebook": {
   "dashboards": [],
   "language": "python",
   "notebookName": "Vehicle Insurance Prediction_rev09",
   "notebookOrigID": 3339082559669834,
   "widgets": {}
  },
  "kernelspec": {
   "display_name": "Python 3",
   "language": "python",
   "name": "python3"
  },
  "language_info": {
   "codemirror_mode": {
    "name": "ipython",
    "version": 3
   },
   "file_extension": ".py",
   "mimetype": "text/x-python",
   "name": "python",
   "nbconvert_exporter": "python",
   "pygments_lexer": "ipython3",
   "version": "3.7.3"
  }
 },
 "nbformat": 4,
 "nbformat_minor": 1
}
